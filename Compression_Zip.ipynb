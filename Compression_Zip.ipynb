{
 "cells": [
  {
   "cell_type": "code",
   "execution_count": 13,
   "metadata": {},
   "outputs": [],
   "source": [
    "import zipfile,os\n",
    "from datetime import date\n",
    "import jdatetime "
   ]
  },
  {
   "cell_type": "code",
   "execution_count": 14,
   "metadata": {},
   "outputs": [],
   "source": [
    "#Rename Date\n",
    "#today = date.today()\n",
    "#d1 = today.strftime(\"%Y_%m_%d\")\n",
    "#print(\"Today's date:\", d1)"
   ]
  },
  {
   "cell_type": "code",
   "execution_count": 15,
   "metadata": {},
   "outputs": [
    {
     "name": "stdout",
     "output_type": "stream",
     "text": [
      "1402_01_29\n"
     ]
    }
   ],
   "source": [
    "d2 = jdatetime.datetime.now().strftime(\"%Y_%m_%d\") # '1399 01 05'\n",
    "print(d2)"
   ]
  },
  {
   "cell_type": "code",
   "execution_count": 16,
   "metadata": {},
   "outputs": [],
   "source": [
    "handle1= zipfile.ZipFile('BK_BPMS_' + d2 + '.zip','w')\n",
    "os.chdir('.\\\\Bak_File')\n",
    "for a in os.listdir():\n",
    "    if a.endswith('.bak'):\n",
    "        handle1.write(a,compress_type=zipfile.ZIP_DEFLATED)\n",
    "handle1.close()"
   ]
  },
  {
   "cell_type": "code",
   "execution_count": 19,
   "metadata": {},
   "outputs": [],
   "source": [
    "#handle1= zipfile.ZipFile('test1.zip','w')\n",
    "os.chdir('..\\Bak_File')\n",
    "for a in os.listdir():\n",
    "    if a.endswith('.bak'):\n",
    "        os.remove(a)"
   ]
  }
 ],
 "metadata": {
  "kernelspec": {
   "display_name": "base",
   "language": "python",
   "name": "python3"
  },
  "language_info": {
   "codemirror_mode": {
    "name": "ipython",
    "version": 3
   },
   "file_extension": ".py",
   "mimetype": "text/x-python",
   "name": "python",
   "nbconvert_exporter": "python",
   "pygments_lexer": "ipython3",
   "version": "3.10.8"
  },
  "orig_nbformat": 4
 },
 "nbformat": 4,
 "nbformat_minor": 2
}
